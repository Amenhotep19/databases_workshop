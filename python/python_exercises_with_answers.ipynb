{
 "cells": [
  {
   "cell_type": "markdown",
   "metadata": {},
   "source": [
    "# Exercises: Connecting to PostgreSQL with Python\n",
    "\n",
    "There may be other ways to solve these exercises."
   ]
  },
  {
   "cell_type": "code",
   "execution_count": null,
   "metadata": {
    "collapsed": true
   },
   "outputs": [],
   "source": [
    "import psycopg2"
   ]
  },
  {
   "cell_type": "markdown",
   "metadata": {},
   "source": [
    "## Exercise: Create and Populate Tables\n",
    "\n",
    "Connect to a database where you have permission to create tables.\n",
    "\n",
    "Create three tables with appropriate columns:\n",
    "\n",
    "* `person`: at least an ID and name, maybe other characteristics of a person\n",
    "* `relationship`: links people together and labels it with a relationship type\n",
    "* `relationship_type`: a table defining the allowed set of relationship types in the `relationship` table\n",
    "\n",
    "Populate the tables with information about your friends and/or family.\n",
    "\n",
    "Print out sentences describing the family relationships."
   ]
  },
  {
   "cell_type": "markdown",
   "metadata": {},
   "source": [
    "#### Solution\n",
    "\n",
    "There are obviously multiple ways to do this.  Here is one."
   ]
  },
  {
   "cell_type": "code",
   "execution_count": null,
   "metadata": {
    "collapsed": false
   },
   "outputs": [],
   "source": [
    "conn = psycopg2.connect(dbname=\"\", host=\"\", user=\"\", password=\"\") # fill in details\n",
    "cur = conn.cursor()"
   ]
  },
  {
   "cell_type": "code",
   "execution_count": null,
   "metadata": {
    "collapsed": false
   },
   "outputs": [],
   "source": [
    "# create tables\n",
    "cur.execute(\"create table person (id serial primary key, name text not null);\")\n",
    "cur.execute(\"\"\"create table relationship_type (\n",
    "               type text primary key);\"\"\")\n",
    "cur.execute(\"\"\"create table relationship (\n",
    "            id serial primary key, \n",
    "            subject int references person(id),\n",
    "            predicate int references person(id),\n",
    "            relationship text references relationship_type(type));\"\"\")\n",
    "conn.commit()"
   ]
  },
  {
   "cell_type": "markdown",
   "metadata": {},
   "source": [
    "Populate tables.  One option is to create a dict to store the auto generated IDs for the people to use later."
   ]
  },
  {
   "cell_type": "code",
   "execution_count": null,
   "metadata": {
    "collapsed": false
   },
   "outputs": [],
   "source": [
    "family = {x:None for x in ['Christina','Casey','Henry','Jessica','Denise','Bob']}\n",
    "for person in family:\n",
    "    # insert\n",
    "    cur.execute(\"insert into person (name) values (%s);\", [person])\n",
    "    # retrieve ID\n",
    "    cur.execute(\"select id from person where name=%s;\", [person])\n",
    "    family[person] = cur.fetchone()[0]\n",
    "    \n",
    "# commit\n",
    "conn.commit()"
   ]
  },
  {
   "cell_type": "markdown",
   "metadata": {},
   "source": [
    "Define relationship types.  There's no reason you have to use an underscore in the names -- you could use a space.  The use of the underscore comes from experience with categorical variables in data analysis in other contexts."
   ]
  },
  {
   "cell_type": "code",
   "execution_count": null,
   "metadata": {
    "collapsed": true
   },
   "outputs": [],
   "source": [
    "for rtype in ['spouse_of','parent_of','sibling_of','child_of']:\n",
    "    cur.execute(\"insert into relationship_type values (%s);\", [rtype])\n",
    "\n",
    "# commit\n",
    "conn.commit()"
   ]
  },
  {
   "cell_type": "code",
   "execution_count": null,
   "metadata": {
    "collapsed": true
   },
   "outputs": [],
   "source": [
    "# not complete set of relationships, but we can do some both ways\n",
    "cur.execute(\"\"\"insert into relationship (subject, predicate, relationship) \n",
    "                values (%s, %s, %s);\"\"\", (family['Christina'], family['Casey'], 'spouse_of'))\n",
    "cur.execute(\"\"\"insert into relationship (subject, predicate, relationship) \n",
    "                values (%s, %s, %s);\"\"\", (family['Christina'], family['Henry'], 'parent_of'))\n",
    "cur.execute(\"\"\"insert into relationship (subject, predicate, relationship) \n",
    "                values (%s, %s, %s);\"\"\", (family['Casey'], family['Henry'], 'parent_of'))\n",
    "cur.execute(\"\"\"insert into relationship (subject, predicate, relationship) \n",
    "                values (%s, %s, %s);\"\"\", (family['Henry'], family['Christina'], 'child_of'))\n",
    "cur.execute(\"\"\"insert into relationship (subject, predicate, relationship) \n",
    "                values (%s, %s, %s);\"\"\", (family['Henry'], family['Casey'], 'child_of'))\n",
    "cur.execute(\"\"\"insert into relationship (subject, predicate, relationship) \n",
    "                values (%s, %s, %s);\"\"\", (family['Christina'], family['Jessica'], 'sibling_of'))\n",
    "cur.execute(\"\"\"insert into relationship (subject, predicate, relationship) \n",
    "                values (%s, %s, %s);\"\"\", (family['Christina'], family['Denise'], 'child_of'))\n",
    "cur.execute(\"\"\"insert into relationship (subject, predicate, relationship) \n",
    "                values (%s, %s, %s);\"\"\", (family['Christina'], family['Bob'], 'child_of'))\n",
    "cur.execute(\"\"\"insert into relationship (subject, predicate, relationship) \n",
    "                values (%s, %s, %s);\"\"\", (family['Jessica'], family['Denise'], 'child_of'))\n",
    "cur.execute(\"\"\"insert into relationship (subject, predicate, relationship) \n",
    "                values (%s, %s, %s);\"\"\", (family['Jessica'], family['Bob'], 'child_of'))\n",
    "conn.commit()"
   ]
  },
  {
   "cell_type": "markdown",
   "metadata": {},
   "source": [
    "Note that instead of manually entering each relationship both ways, you could set up [triggers](https://www.postgresql.org/docs/9.1/static/sql-createtrigger.html) in the database to do this.  This would take some work to set up (you'd need to define the opposite of each relationship type), but it's possible.\n",
    "\n",
    "Look at results."
   ]
  },
  {
   "cell_type": "code",
   "execution_count": null,
   "metadata": {
    "collapsed": false
   },
   "outputs": [],
   "source": [
    "cur.execute(\"\"\"select a.name, b.name, relationship from person a, person b, relationship \n",
    "                where a.id=subject and b.id=predicate;\"\"\")\n",
    "for row in cur.fetchall():\n",
    "    print(\"{} is the {} {}.\".format(row[0], row[2].replace(\"_\", \" \"), row[1]))"
   ]
  },
  {
   "cell_type": "code",
   "execution_count": null,
   "metadata": {
    "collapsed": true
   },
   "outputs": [],
   "source": [
    "cur.close()\n",
    "conn.close()"
   ]
  }
 ],
 "metadata": {
  "kernelspec": {
   "display_name": "Python 3 (conda p3)",
   "language": "python",
   "name": "p3"
  },
  "language_info": {
   "codemirror_mode": {
    "name": "ipython",
    "version": 3
   },
   "file_extension": ".py",
   "mimetype": "text/x-python",
   "name": "python",
   "nbconvert_exporter": "python",
   "pygments_lexer": "ipython3",
   "version": "3.6.1"
  }
 },
 "nbformat": 4,
 "nbformat_minor": 2
}
